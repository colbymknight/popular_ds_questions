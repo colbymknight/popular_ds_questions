{
 "cells": [
  {
   "cell_type": "markdown",
   "metadata": {},
   "source": [
    "# Popular Data Science Questions\n",
    "## Stack Exchange\n",
    "Chosen Site: __[Data Science](https://datascience.stackexchange.com)__\n",
    "Questions:\n",
    "* What kind of questions are welcome on this site?\n",
    "    * It seems the kind of questions that are welcome are anything having to do with data science as a whole, with most questions involving machine learning in some form or another\n",
    "* What, other than questions, does this site's home subdivide into?\n",
    "    * Tags, Users, Companies, Unanswered\n",
    "    * Do any of them look useful towards our goal?\n",
    "        * Unanswered and Tags would be useful\n",
    "* What information is available in each post?\n",
    "    * Ask date, Modification Date, Times Viewed, Text of the question, Up/Down Votes, Tags, Comments, User, Time Since Asked"
   ]
  },
  {
   "cell_type": "markdown",
   "metadata": {
    "collapsed": true
   },
   "source": [
    "## Stack Exchange Data Explorer\n",
    "Upon cursory examination, tags looks like it may be useful for a rough overview of interest in a given topic, but the posts table contains much more information and, most importantly, date information, so we can determine whether interest in a given topic is recent or not."
   ]
  },
  {
   "cell_type": "markdown",
   "metadata": {},
   "source": [
    "## Getting the Data\n",
    "There are a lot of columns in the posts table, so we will narrow our field down to the following relevant columns:\n",
    "* `Id`: An identification number for the post\n",
    "* `PostTypeId`: An identification number for the type of post\n",
    "* `CreationDate`: The date and time of creation of the post\n",
    "* `Score`: The post's score\n",
    "* `ViewCount`: How many times the post was viewed\n",
    "* `Tags`: What tags were used\n",
    "* `AnswerCount`: How many answers the question got (only applicable to question posts)\n",
    "* `FavoriteCount`: How many times the question was favorited (only applicable to question posts\n",
    "\n",
    "To figure out which type of posts are relevant, let's see how many of each there are:\n",
    "```\n",
    "SELECT PostTypeId, COUNT(*) as NrOfPosts\n",
    "  FROM posts\n",
    " GROUP BY PostTypeId;\n",
    "```\n",
    "<table>\n",
    "  <tr>\n",
    "    <th>PostTypeId</th>\n",
    "    <th>NrOfPosts</th>\n",
    "  </tr>\n",
    "  <tr>\n",
    "    <td>1</td>\n",
    "    <td>21446</td>\n",
    "  </tr>\n",
    "  <tr>\n",
    "    <td>2</td>\n",
    "    <td>23673</td>\n",
    "  </tr>\n",
    "  <tr>\n",
    "    <td>4</td>\n",
    "    <td>234</td>\n",
    "  </tr>\n",
    "  <tr>\n",
    "    <td>5</td>\n",
    "    <td>234</td>\n",
    "  </tr>\n",
    "  <tr>\n",
    "    <td>6</td>\n",
    "    <td>11</td>\n",
    "  </tr>\n",
    "  <tr>\n",
    "    <td>7</td>\n",
    "    <td>1</td>\n",
    "  </tr>\n",
    "</table>\n",
    "\n",
    "It is apparent that any type of post outside of questions and answers has too low of a volume to be consequential for us.\n",
    "\n",
    "To get the data for recent posts (only in 2019), we make the following query:\n",
    "```\n",
    "SELECT Id, PostTypeId,\n",
    "       CreationDate, Score,\n",
    "       ViewCount, Tags,\n",
    "       AnswerCount, FavoriteCount\n",
    "  FROM posts\n",
    " WHERE PostTypeId = 1 AND YEAR(CreationDate) = 2019;\n",
    " ```\n",
    " \n",
    "Below is an example of a row:\n",
    "<table>\n",
    "  <tr>\n",
    "    <th>Id</th>\n",
    "    <th>PostTypeId</th>\n",
    "    <th>CreationDate</th>\n",
    "    <th>Score</th>\n",
    "    <th>ViewCount</th>\n",
    "    <th>Tags</th>\n",
    "    <th>AnswerCount</th>\n",
    "    <th>FavoriteCount</th>\n",
    "  </tr>\n",
    "  <tr>\n",
    "   <td>61407</td>\n",
    "   <td>1</td>\n",
    "   <td>2019-10-08 03:39:49</td>\n",
    "   <td>6</td>\n",
    "   <td>942</td>\n",
    "   <td>&lt;machine-learning&gt;&lt;time-series&gt;&lt;clustering&gt;&lt;k-means&gt;unsupervised-learning</td>\n",
    "   <td></td>\n",
    "   <td></td>\n",
    "  </tr>\n",
    "</table>"
   ]
  },
  {
   "cell_type": "markdown",
   "metadata": {
    "collapsed": true
   },
   "source": [
    "## Exploring the Data"
   ]
  },
  {
   "cell_type": "markdown",
   "metadata": {},
   "source": [
    "Below we will read in the data, which is stored into a file called `2019_questions.csv`."
   ]
  },
  {
   "cell_type": "code",
   "execution_count": 1,
   "metadata": {
    "collapsed": true
   },
   "outputs": [],
   "source": [
    "import pandas as pd\n",
    "import matplotlib.pyplot as plt\n",
    "import seaborn as sns\n",
    "\n",
    "%matplotlib inline"
   ]
  },
  {
   "cell_type": "code",
   "execution_count": 2,
   "metadata": {
    "collapsed": true
   },
   "outputs": [],
   "source": [
    "questions = pd.read_csv(\"2019_questions.csv\", parse_dates=[\"CreationDate\"])"
   ]
  },
  {
   "cell_type": "markdown",
   "metadata": {},
   "source": [
    "To further explore the data, we will use `questions.info()` to answer the following:\n",
    "* How many missing values in each column?\n",
    "* Can we fix the missing values somehow?\n",
    "* Are the types of each column adequate?\n",
    "* What can we do about the `Tags` column?"
   ]
  },
  {
   "cell_type": "code",
   "execution_count": 3,
   "metadata": {
    "collapsed": false
   },
   "outputs": [
    {
     "name": "stdout",
     "output_type": "stream",
     "text": [
      "<class 'pandas.core.frame.DataFrame'>\n",
      "RangeIndex: 8839 entries, 0 to 8838\n",
      "Data columns (total 7 columns):\n",
      "Id               8839 non-null int64\n",
      "CreationDate     8839 non-null datetime64[ns]\n",
      "Score            8839 non-null int64\n",
      "ViewCount        8839 non-null int64\n",
      "Tags             8839 non-null object\n",
      "AnswerCount      8839 non-null int64\n",
      "FavoriteCount    1407 non-null float64\n",
      "dtypes: datetime64[ns](1), float64(1), int64(4), object(1)\n",
      "memory usage: 483.5+ KB\n"
     ]
    }
   ],
   "source": [
    "questions.info()"
   ]
  },
  {
   "cell_type": "markdown",
   "metadata": {},
   "source": [
    "As for missing values, there only seem to be any in the `FavoriteCount` column, which is missing 7,432 values, which is most of the values.\n",
    "\n",
    "We can fix this, as a missing value under `FavoriteCount` implies there were no favorites, so we could replace the null values with zeroes.\n",
    "\n",
    "The types of each column are perfectly fine for their uses, although once we fill in the zeroes in `FavoriteCount` we can change it to `int64`.\n",
    "\n",
    "The `Tags` column is currently populated with list objects which we will leave in tact."
   ]
  },
  {
   "cell_type": "markdown",
   "metadata": {},
   "source": [
    "## Cleaning the Data\n",
    "Below we will fill the null values of the `FavoriteCount` column with zeroes:"
   ]
  },
  {
   "cell_type": "code",
   "execution_count": 4,
   "metadata": {
    "collapsed": true
   },
   "outputs": [],
   "source": [
    "questions[\"FavoriteCount\"] = questions[\"FavoriteCount\"].fillna(0)\n",
    "questions[\"FavoriteCount\"] = questions[\"FavoriteCount\"].astype(int)"
   ]
  },
  {
   "cell_type": "code",
   "execution_count": 5,
   "metadata": {
    "collapsed": false
   },
   "outputs": [
    {
     "name": "stdout",
     "output_type": "stream",
     "text": [
      "<class 'pandas.core.frame.DataFrame'>\n",
      "RangeIndex: 8839 entries, 0 to 8838\n",
      "Data columns (total 7 columns):\n",
      "Id               8839 non-null int64\n",
      "CreationDate     8839 non-null datetime64[ns]\n",
      "Score            8839 non-null int64\n",
      "ViewCount        8839 non-null int64\n",
      "Tags             8839 non-null object\n",
      "AnswerCount      8839 non-null int64\n",
      "FavoriteCount    8839 non-null int64\n",
      "dtypes: datetime64[ns](1), int64(5), object(1)\n",
      "memory usage: 483.5+ KB\n"
     ]
    }
   ],
   "source": [
    "questions.info()"
   ]
  },
  {
   "cell_type": "markdown",
   "metadata": {},
   "source": [
    "As we can see by all columns now containing the same number of values, this was successful.\n",
    "\n",
    "Next we will clean the `Tags` column:"
   ]
  },
  {
   "cell_type": "code",
   "execution_count": 6,
   "metadata": {
    "collapsed": false
   },
   "outputs": [
    {
     "data": {
      "text/html": [
       "<div>\n",
       "<style scoped>\n",
       "    .dataframe tbody tr th:only-of-type {\n",
       "        vertical-align: middle;\n",
       "    }\n",
       "\n",
       "    .dataframe tbody tr th {\n",
       "        vertical-align: top;\n",
       "    }\n",
       "\n",
       "    .dataframe thead th {\n",
       "        text-align: right;\n",
       "    }\n",
       "</style>\n",
       "<table border=\"1\" class=\"dataframe\">\n",
       "  <thead>\n",
       "    <tr style=\"text-align: right;\">\n",
       "      <th></th>\n",
       "      <th>Id</th>\n",
       "      <th>CreationDate</th>\n",
       "      <th>Score</th>\n",
       "      <th>ViewCount</th>\n",
       "      <th>Tags</th>\n",
       "      <th>AnswerCount</th>\n",
       "      <th>FavoriteCount</th>\n",
       "    </tr>\n",
       "  </thead>\n",
       "  <tbody>\n",
       "    <tr>\n",
       "      <th>4103</th>\n",
       "      <td>48454</td>\n",
       "      <td>2019-04-02 15:52:37</td>\n",
       "      <td>1</td>\n",
       "      <td>11</td>\n",
       "      <td>[python, correlation, sentiment-analysis]</td>\n",
       "      <td>0</td>\n",
       "      <td>0</td>\n",
       "    </tr>\n",
       "    <tr>\n",
       "      <th>8687</th>\n",
       "      <td>55665</td>\n",
       "      <td>2019-07-15 02:35:45</td>\n",
       "      <td>0</td>\n",
       "      <td>12</td>\n",
       "      <td>[automatic-summarization]</td>\n",
       "      <td>0</td>\n",
       "      <td>0</td>\n",
       "    </tr>\n",
       "    <tr>\n",
       "      <th>120</th>\n",
       "      <td>44607</td>\n",
       "      <td>2019-01-26 10:30:50</td>\n",
       "      <td>0</td>\n",
       "      <td>167</td>\n",
       "      <td>[reinforcement-learning, ai, openai-gym]</td>\n",
       "      <td>2</td>\n",
       "      <td>0</td>\n",
       "    </tr>\n",
       "    <tr>\n",
       "      <th>3638</th>\n",
       "      <td>49109</td>\n",
       "      <td>2019-04-11 09:30:05</td>\n",
       "      <td>1</td>\n",
       "      <td>989</td>\n",
       "      <td>[keras, lstm, loss-function, accuracy]</td>\n",
       "      <td>2</td>\n",
       "      <td>0</td>\n",
       "    </tr>\n",
       "    <tr>\n",
       "      <th>367</th>\n",
       "      <td>44990</td>\n",
       "      <td>2019-02-03 11:42:30</td>\n",
       "      <td>1</td>\n",
       "      <td>19</td>\n",
       "      <td>[machine-learning, deep-learning, statistics]</td>\n",
       "      <td>1</td>\n",
       "      <td>0</td>\n",
       "    </tr>\n",
       "  </tbody>\n",
       "</table>\n",
       "</div>"
      ],
      "text/plain": [
       "         Id        CreationDate  Score  ViewCount  \\\n",
       "4103  48454 2019-04-02 15:52:37      1         11   \n",
       "8687  55665 2019-07-15 02:35:45      0         12   \n",
       "120   44607 2019-01-26 10:30:50      0        167   \n",
       "3638  49109 2019-04-11 09:30:05      1        989   \n",
       "367   44990 2019-02-03 11:42:30      1         19   \n",
       "\n",
       "                                               Tags  AnswerCount  \\\n",
       "4103      [python, correlation, sentiment-analysis]            0   \n",
       "8687                      [automatic-summarization]            0   \n",
       "120        [reinforcement-learning, ai, openai-gym]            2   \n",
       "3638         [keras, lstm, loss-function, accuracy]            2   \n",
       "367   [machine-learning, deep-learning, statistics]            1   \n",
       "\n",
       "      FavoriteCount  \n",
       "4103              0  \n",
       "8687              0  \n",
       "120               0  \n",
       "3638              0  \n",
       "367               0  "
      ]
     },
     "execution_count": 6,
     "metadata": {},
     "output_type": "execute_result"
    }
   ],
   "source": [
    "questions[\"Tags\"] = questions[\"Tags\"].str.replace(\"^<|>$\", \"\").str.split(\"><\")\n",
    "questions.sample(5)"
   ]
  },
  {
   "cell_type": "markdown",
   "metadata": {},
   "source": [
    "## Most Used and Most Viewed\n",
    "We will split the \"most popular tag\" concept into two categories, most-used and most-viewed."
   ]
  },
  {
   "cell_type": "code",
   "execution_count": 7,
   "metadata": {
    "collapsed": true
   },
   "outputs": [],
   "source": [
    "tag_count = dict()\n",
    "\n",
    "for tags in questions[\"Tags\"]:\n",
    "    for tag in tags:\n",
    "        if tag in tag_count:\n",
    "            tag_count[tag] += 1\n",
    "        else:\n",
    "            tag_count[tag] = 1"
   ]
  },
  {
   "cell_type": "code",
   "execution_count": 8,
   "metadata": {
    "collapsed": false
   },
   "outputs": [
    {
     "name": "stdout",
     "output_type": "stream",
     "text": [
      "{'dimensionality-reduction': 69, 'glm': 3, 'azure-ml': 12, 'pattern-recognition': 1, 'scalability': 4, 'kaggle': 43, 'processing': 5, 'dropout': 15, 'bigdata': 95, 'methodology': 10, 'similar-documents': 20, 'stanford-nlp': 9, 'hyperparameter-tuning': 59, 'question-answering': 4, 'matrix': 22, 'named-entity-recognition': 36, 'neural-network': 1055, 'historgram': 7, 'genetic-programming': 2, 'encoding': 54, '.net': 1, 'google': 17, 'bert': 64, 'mse': 8, 'amazon-ml': 1, 'mnist': 23, 'crawling': 3, 'doc2vec': 3, 'self-driving': 3, 'language-model': 25, 'neural-style-transfer': 8, 'kernel': 27, 'unseen-data': 1, 'dummy-variables': 19, 'image': 32, 'torch': 4, 'automl': 2, 'scala': 9, 'automatic-summarization': 10, 'multi-output': 7, 'simulation': 11, 'annotation': 12, 'mcmc': 4, 'dplyr': 6, 'scipy': 40, 'pipelines': 17, 'manhattan': 3, 'open-set': 2, 'transformer': 45, 'probability': 76, 'tokenization': 6, 'ocr': 26, 'community': 1, 'data-transfer': 1, 'seaborn': 38, 'redshift': 1, 'discriminant-analysis': 5, 'groupby': 2, 'predictor-importance': 9, 'stacked-lstm': 7, 'causalimpact': 2, 'pytorch': 175, 'forecasting': 85, 'pickle': 9, 'neural': 16, 'pca': 85, 'text': 41, 'multivariate-distribution': 1, '3d-object-detection': 1, 'optimization': 124, 'competitions': 2, 'sentiment-analysis': 37, 'feature-scaling': 59, 'class-imbalance': 73, 'cs231n': 1, 'distribution': 57, 'parsing': 3, 'recurrent-neural-net': 91, 'weka': 19, 'ensemble': 7, 'learning': 10, 'outlier': 48, 'feature-selection': 209, 'ensemble-modeling': 30, 'lda-classifier': 1, 'james-stein-encoder': 1, 'dirichlet': 4, 'openai-gpt': 2, 'sensors': 5, 'apache-hadoop': 13, 'ibm-watson': 1, 'notation': 4, 'nosql': 3, 'text-classification': 1, 'smotenc': 4, 'jaccard-coefficient': 4, 'lightgbm': 23, 'sas': 6, 'evolutionary-algorithms': 11, 'finetuning': 7, 'helmert-coding': 1, 'rdkit': 1, 'stemming': 2, 'experiments': 3, 'imbalanced-learn': 21, 'parameter': 5, 'feature-reduction': 4, 'vector-space-models': 7, 'variance': 35, 'data-leakage': 8, 'pytorch-geometric': 2, 'pearsons-correlation-coefficient': 2, 'mutual-information': 5, 'bayes-error': 1, 'arima': 11, 'xboost': 1, 'prediction': 128, 'state-of-the-art': 1, 'beginner': 27, 'model-selection': 58, 'ml': 7, 'label-smoothing': 1, 'computer-vision': 121, 'feature-construction': 16, 'vc-theory': 5, 'ipython': 18, 'decision-trees': 145, 'backpropagation': 65, 'reference-request': 18, 'pooling': 4, 'momentum': 3, 'tensorflow': 584, 'k-nn': 50, 'python': 1814, 'allennlp': 2, 'cross-validation': 139, 'scraping': 5, 'k-means': 81, 'nlg': 9, 'auc': 3, 'data-cleaning': 157, 'supervised-learning': 82, 'paperspace': 1, 'parameter-estimation': 6, 'non-parametric': 3, 'data-mining': 217, 'theory': 11, 'training': 148, 'hurdle-model': 1, 'epochs': 11, 'powerbi': 10, 'image-classification': 211, 'spyder': 1, 'ranking': 22, 'reshape': 9, 'sql': 29, 'sequential-pattern-mining': 17, 'multitask-learning': 7, '3d-reconstruction': 9, 'objective-function': 4, 'distance': 44, 'speech-to-text': 8, 'data-augmentation': 24, 'software-recommendation': 4, 'spss': 2, 'dialog-flow': 2, 'discounted-reward': 5, 'spacy': 20, 'multiclass-classification': 131, 'rstudio': 15, 'logistic-regression': 154, 'clustering': 257, 'data-analysis': 71, 'r': 268, 'etl': 6, 'dbscan': 18, 'relational-dbms': 7, 'aws': 20, 'sematic-similarity': 2, 'javascript': 8, 'tableau': 9, 'numerical': 6, 'data': 213, 'siamese': 1, 'infographics': 2, 'estimators': 8, 'hive': 2, 'pip': 4, 'least-squares-svm': 1, 'parallel': 8, 'score': 14, 'preprocessing': 120, 'jupyter': 41, 'anomaly-detection': 92, 'smote': 27, 'fuzzy-classification': 3, 'rbf': 5, 'classification': 685, 'efficiency': 2, 'probability-calibration': 11, 'attention-mechanism': 26, 'one-hot-encoding': 4, 'perceptron': 26, 'q-learning': 37, 'data-stream-mining': 4, 'hardware': 12, 'google-cloud': 1, 'orange3': 20, 'parquet': 1, 'inception': 10, 'sparsity': 2, 'heatmap': 9, 'metric': 60, 'counts': 3, 'movielens': 2, 'finite-precision': 2, 'weighted-data': 14, 'missing-data': 43, 'usecase': 2, 'data-imputation': 16, 'self-study': 8, 'privacy': 6, 'autoencoder': 106, 'word': 2, 'machine-learning': 2693, 'active-learning': 4, 'market-basket-analysis': 12, 'multilabel-classification': 92, 'similarity': 72, 'image-recognition': 86, 'bayesian-networks': 12, 'meta-learning': 3, 'normalization': 74, 'spearmans-rank-correlation': 1, 'cnn': 489, 'octave': 4, 'linear-regression': 175, 'definitions': 4, 'time': 5, 'object-recognition': 14, 'pandas': 354, 'one-shot-learning': 2, 'representation': 9, 'h2o': 4, 'serialisation': 3, 'terminology': 16, 'anomaly': 4, 'natural-language-process': 124, 'loss-function': 161, 'softmax': 24, 'error-handling': 17, 'image-size': 6, 'deep-network': 29, 'activation-function': 44, 'finance': 17, 'vgg16': 21, 'image-preprocessing': 67, 'theano': 4, 'object-detection': 109, 'history': 1, 'math': 37, 'svr': 5, 'dqn': 36, 'cause-effect-relations': 1, 'mongodb': 2, 'scikit-learn': 540, 'game': 7, 'wolfram-language': 3, 'software-development': 2, 'expectation-maximization': 5, 'nl2sql': 1, 'web-scrapping': 8, 'management': 2, 'machine-translation': 28, 'adaboost': 1, 'marketing': 6, 'dataframe': 81, 'apache-spark': 35, 'java': 14, 'confusion-matrix': 27, 'bayesian': 40, 'data-wrangling': 15, 'gru': 1, 'churn': 15, 'education': 3, 'consumerweb': 1, 'openai-gym': 17, 'information-theory': 9, 'keras': 935, 'hog': 1, 'regex': 8, 'domain-adaptation': 3, 'cost-function': 25, 'kendalls-tau-coefficient': 1, 'sequence': 25, 'keras-rl': 6, 'data-product': 3, 'activation': 1, 'descriptive-statistics': 21, 'nn': 1, 'pgm': 1, 'statistics': 234, 'c++': 1, 'caffe': 7, 'research': 11, 'pathfinder': 1, 'aws-lambda': 2, 'policy-gradients': 27, 'forecast': 34, 'batch-normalization': 29, 'tools': 8, 'convolution': 103, 'ab-test': 6, 'image-segmentation': 3, 'online-learning': 13, 'actor-critic': 21, 'word-embeddings': 117, 'pyspark': 40, 'time-series': 466, 'generalization': 12, 'metadata': 2, 'opencv': 39, 'cosine-distance': 21, 'regularization': 50, 'refit-model': 1, 'json': 10, 'features': 32, 'twitter': 8, 'xgboost': 165, 'cloud-computing': 9, 'density-estimation': 3, 'unbalanced-classes': 42, 'inceptionresnetv2': 6, 'genetic-algorithms': 16, 'weight-initialization': 12, 'knime': 1, 'survival-analysis': 10, 'normal-equation': 1, 'rbm': 4, 'tsne': 15, 'hierarchical-data-format': 7, 'gpu': 42, 'proximal-svm': 1, 'gradient-descent': 98, 'gaussian': 20, 'activity-recognition': 5, 'binary': 26, 'kitti-dataset': 1, 'c': 4, 'anova': 2, 'gensim': 36, 'text-generation': 17, 'books': 7, 'statsmodels': 1, 'non-convex': 1, 'alex-net': 5, 'nltk': 43, 'mathematics': 17, 'label-flipping': 1, 'corpus': 1, 'structured-data': 5, 'monte-carlo': 15, 'sagemaker': 8, 'convnet': 111, 'feature-extraction': 87, 'grid-search': 35, 'naive-bayes-classifier': 42, 'databases': 29, 'evaluation': 66, 'accuracy': 89, 'cloud': 6, 'csv': 27, 'interpolation': 6, 'clusters': 10, 'impala': 1, 'libsvm': 1, 'topic-model': 31, 'programming': 7, 'code': 5, 'embeddings': 44, 'matrix-factorisation': 24, 'automation': 4, 'indexing': 6, 'convergence': 17, 'audio-recognition': 25, 'association-rules': 19, 'predictive-modeling': 265, 'search': 5, 'distributed': 7, 'library': 2, 'markov-hidden-model': 13, 'plotting': 32, 'excel': 24, 'dynamic-programming': 3, 'google-prediction-api': 2, 'overfitting': 69, 'learning-rate': 8, 'boosting': 49, 'semi-supervised-learning': 18, 'regression': 347, 'nlp': 493, 'mean-shift': 2, 'sequence-to-sequence': 35, 'counter-inference': 1, 'algorithms': 68, 'fastai': 6, 'matlab': 62, 'open-source': 1, 'explainable-ai': 10, 'pruning': 3, 'graphs': 47, 'feature-map': 2, 'mini-batch-gradient-descent': 10, 'bayesian-nonparametric': 2, 'dataset': 340, 'machine-learning-model': 224, 'gan': 85, 'networkx': 2, 'lasso': 8, 'coursera': 3, 'social-network-analysis': 11, 'ndcg': 5, 'ai': 25, 'difference': 5, 'colab': 18, 'julia': 2, 'linear-algebra': 24, 'correlation': 80, 'encoder': 1, 'exploitation': 1, 'labels': 28, 'reinforcement-learning': 203, 'ngrams': 7, 'transfer-learning': 69, 'data.table': 4, 'deep-learning': 1220, 'deepmind': 7, 'marginal-effects': 1, 'bioinformatics': 4, 'hyperparameter': 42, 'text-mining': 113, 'goss': 1, 'scoring': 12, 'nvidia': 7, 'bias': 19, 'collinearity': 6, 'learning-to-rank': 6, 'version-control': 1, 'feature-engineering': 163, 'implementation': 9, 'ggplot2': 3, 'data-indexing-techniques': 1, 'information-retrieval': 32, 'categorical-data': 81, 'text-filter': 2, 'hinge-loss': 7, 'career': 9, 'word2vec': 88, 'geospatial': 27, 'frequentist': 1, 'mlp': 34, 'huggingface': 2, 'search-engine': 4, 'tesseract': 3, 'gmm': 2, 'noisification': 1, 'yolo': 21, 'generative-models': 46, 'classifier': 18, 'anaconda': 20, 'random-forest': 159, 'matplotlib': 77, 'rmse': 1, 'categories': 2, 'lstm': 402, 'linux': 5, 'orange': 64, 'data-science-model': 186, 'recommender-system': 103, 'numpy': 117, 'gridsearchcv': 28, 'anonymization': 3, 'markov': 4, 'categorical-encoding': 3, 'randomized-algorithms': 6, 'noise': 17, 'chatbot': 14, 'fuzzy-logic': 13, 'sampling': 38, 'lda': 27, 'haar-cascade': 1, 'data-formats': 9, 'ensemble-learning': 11, 'project-planning': 6, 'aggregation': 12, 'ann': 2, 'predict': 3, 'lbp': 2, 'summarunner-architecture': 1, 'wikipedia': 1, 'faster-rcnn': 38, 'map-reduce': 3, 'multi-instance-learning': 2, 'homework': 4, 'siamese-networks': 4, 'svm': 136, 'sports': 3, 'dump': 1, 'rmsle': 1, 'python-3.x': 13, 'visualization': 126, 'rnn': 149, 'methods': 4, 'vae': 14, 'performance': 27, 'probabilistic-programming': 9, 'gbm': 10, 'graphical-model': 3, 'manifold': 1, 'ridge-regression': 7, 'tfidf': 31, 'unsupervised-learning': 110, 'pac-learning': 6, 'apache-nifi': 1, 'markov-process': 14, 'gaussian-process': 12}\n"
     ]
    }
   ],
   "source": [
    "print(tag_count)"
   ]
  },
  {
   "cell_type": "markdown",
   "metadata": {},
   "source": [
    "To make the above easier to work with, we will transform it into a dataframe."
   ]
  },
  {
   "cell_type": "code",
   "execution_count": 9,
   "metadata": {
    "collapsed": false
   },
   "outputs": [
    {
     "data": {
      "text/html": [
       "<div>\n",
       "<style scoped>\n",
       "    .dataframe tbody tr th:only-of-type {\n",
       "        vertical-align: middle;\n",
       "    }\n",
       "\n",
       "    .dataframe tbody tr th {\n",
       "        vertical-align: top;\n",
       "    }\n",
       "\n",
       "    .dataframe thead th {\n",
       "        text-align: right;\n",
       "    }\n",
       "</style>\n",
       "<table border=\"1\" class=\"dataframe\">\n",
       "  <thead>\n",
       "    <tr style=\"text-align: right;\">\n",
       "      <th></th>\n",
       "      <th>Count</th>\n",
       "    </tr>\n",
       "  </thead>\n",
       "  <tbody>\n",
       "    <tr>\n",
       "      <th>dimensionality-reduction</th>\n",
       "      <td>69</td>\n",
       "    </tr>\n",
       "    <tr>\n",
       "      <th>glm</th>\n",
       "      <td>3</td>\n",
       "    </tr>\n",
       "    <tr>\n",
       "      <th>azure-ml</th>\n",
       "      <td>12</td>\n",
       "    </tr>\n",
       "    <tr>\n",
       "      <th>pattern-recognition</th>\n",
       "      <td>1</td>\n",
       "    </tr>\n",
       "    <tr>\n",
       "      <th>scalability</th>\n",
       "      <td>4</td>\n",
       "    </tr>\n",
       "  </tbody>\n",
       "</table>\n",
       "</div>"
      ],
      "text/plain": [
       "                          Count\n",
       "dimensionality-reduction     69\n",
       "glm                           3\n",
       "azure-ml                     12\n",
       "pattern-recognition           1\n",
       "scalability                   4"
      ]
     },
     "execution_count": 9,
     "metadata": {},
     "output_type": "execute_result"
    }
   ],
   "source": [
    "tag_count = pd.DataFrame.from_dict(tag_count, orient=\"index\")\n",
    "tag_count.rename(columns={0: \"Count\"}, inplace=True)\n",
    "tag_count.head(5)"
   ]
  },
  {
   "cell_type": "markdown",
   "metadata": {},
   "source": [
    "That looks better, but we want the highest number up on top."
   ]
  },
  {
   "cell_type": "code",
   "execution_count": 10,
   "metadata": {
    "collapsed": false
   },
   "outputs": [
    {
     "data": {
      "text/html": [
       "<div>\n",
       "<style scoped>\n",
       "    .dataframe tbody tr th:only-of-type {\n",
       "        vertical-align: middle;\n",
       "    }\n",
       "\n",
       "    .dataframe tbody tr th {\n",
       "        vertical-align: top;\n",
       "    }\n",
       "\n",
       "    .dataframe thead th {\n",
       "        text-align: right;\n",
       "    }\n",
       "</style>\n",
       "<table border=\"1\" class=\"dataframe\">\n",
       "  <thead>\n",
       "    <tr style=\"text-align: right;\">\n",
       "      <th></th>\n",
       "      <th>Count</th>\n",
       "    </tr>\n",
       "  </thead>\n",
       "  <tbody>\n",
       "    <tr>\n",
       "      <th>keras</th>\n",
       "      <td>935</td>\n",
       "    </tr>\n",
       "    <tr>\n",
       "      <th>neural-network</th>\n",
       "      <td>1055</td>\n",
       "    </tr>\n",
       "    <tr>\n",
       "      <th>deep-learning</th>\n",
       "      <td>1220</td>\n",
       "    </tr>\n",
       "    <tr>\n",
       "      <th>python</th>\n",
       "      <td>1814</td>\n",
       "    </tr>\n",
       "    <tr>\n",
       "      <th>machine-learning</th>\n",
       "      <td>2693</td>\n",
       "    </tr>\n",
       "  </tbody>\n",
       "</table>\n",
       "</div>"
      ],
      "text/plain": [
       "                  Count\n",
       "keras               935\n",
       "neural-network     1055\n",
       "deep-learning      1220\n",
       "python             1814\n",
       "machine-learning   2693"
      ]
     },
     "execution_count": 10,
     "metadata": {},
     "output_type": "execute_result"
    }
   ],
   "source": [
    "tag_count = tag_count.sort_values(by=\"Count\")\n",
    "tag_count.tail(5)"
   ]
  },
  {
   "cell_type": "markdown",
   "metadata": {},
   "source": [
    "For our purposes, we will use the top ten tags for visualization."
   ]
  },
  {
   "cell_type": "code",
   "execution_count": 11,
   "metadata": {
    "collapsed": false
   },
   "outputs": [
    {
     "data": {
      "text/plain": [
       "<matplotlib.axes._subplots.AxesSubplot at 0x7fd23b208588>"
      ]
     },
     "execution_count": 11,
     "metadata": {},
     "output_type": "execute_result"
    },
    {
     "data": {
      "image/png": "[encoded data removed]",
      "text/plain": [
       "<matplotlib.figure.Figure at 0x7fd23b9276a0>"
      ]
     },
     "metadata": {},
     "output_type": "display_data"
    }
   ],
   "source": [
    "most_used = tag_count.tail(10)\n",
    "most_used.plot(kind=\"barh\", figsize=(16,10))"
   ]
  },
  {
   "cell_type": "code",
   "execution_count": 12,
   "metadata": {
    "collapsed": false
   },
   "outputs": [
    {
     "name": "stdout",
     "output_type": "stream",
     "text": [
      "                  ViewCount\n",
      "dataframe             89352\n",
      "classification       104457\n",
      "tensorflow           121369\n",
      "scikit-learn         128110\n",
      "neural-network       185367\n",
      "pandas               201787\n",
      "deep-learning        233628\n",
      "keras                268608\n",
      "machine-learning     388499\n",
      "python               537585\n"
     ]
    }
   ],
   "source": [
    "tag_view_count = dict()\n",
    "\n",
    "for index, row in questions.iterrows():\n",
    "    for tag in row[\"Tags\"]:\n",
    "        if tag in tag_view_count:\n",
    "            tag_view_count[tag] += row[\"ViewCount\"]\n",
    "        else:\n",
    "            tag_view_count[tag] = row[\"ViewCount\"]\n",
    "\n",
    "tag_view_count = pd.DataFrame.from_dict(tag_view_count, orient=\"index\")\n",
    "tag_view_count.rename(columns={0: \"ViewCount\"}, inplace=True)\n",
    "\n",
    "most_viewed = tag_view_count.sort_values(by=\"ViewCount\").tail(10)\n",
    "print(most_viewed)"
   ]
  },
  {
   "cell_type": "code",
   "execution_count": 13,
   "metadata": {
    "collapsed": false
   },
   "outputs": [
    {
     "data": {
      "text/plain": [
       "<matplotlib.axes._subplots.AxesSubplot at 0x7fd23b927518>"
      ]
     },
     "execution_count": 13,
     "metadata": {},
     "output_type": "execute_result"
    },
    {
     "data": {
      "image/png": "[encoded data removed]",
      "text/plain": [
       "<matplotlib.figure.Figure at 0x7fd23b4334e0>"
      ]
     },
     "metadata": {},
     "output_type": "display_data"
    }
   ],
   "source": [
    "most_viewed.plot(kind=\"barh\", figsize=(16,10))"
   ]
  },
  {
   "cell_type": "markdown",
   "metadata": {},
   "source": [
    "These may be easier to interpret side by side."
   ]
  },
  {
   "cell_type": "code",
   "execution_count": 14,
   "metadata": {
    "collapsed": false
   },
   "outputs": [
    {
     "data": {
      "text/plain": [
       "array([<matplotlib.axes._subplots.AxesSubplot object at 0x7fd23af8fb38>],\n",
       "      dtype=object)"
      ]
     },
     "execution_count": 14,
     "metadata": {},
     "output_type": "execute_result"
    },
    {
     "data": {
      "image/png": "[encoded data removed]",
      "text/plain": [
       "<matplotlib.figure.Figure at 0x7fd23b437358>"
      ]
     },
     "metadata": {},
     "output_type": "display_data"
    }
   ],
   "source": [
    "fig, axes = plt.subplots(nrows=1, ncols=2)\n",
    "fig.set_size_inches((24,10))\n",
    "most_used.plot(kind=\"barh\", ax=axes[0], subplots=True)\n",
    "most_viewed.plot(kind=\"barh\", ax=axes[1], subplots=True)"
   ]
  },
  {
   "cell_type": "markdown",
   "metadata": {
    "collapsed": true
   },
   "source": [
    "## Relations Between Tags\n",
    "To see what tags are in `most_used` but not `most_viewed`, we will merge the two dataframes."
   ]
  },
  {
   "cell_type": "code",
   "execution_count": 17,
   "metadata": {
    "collapsed": false
   },
   "outputs": [
    {
     "name": "stdout",
     "output_type": "stream",
     "text": [
      "                  Count  ViewCount\n",
      "cnn                 489        NaN\n",
      "nlp                 493        NaN\n",
      "scikit-learn        540   128110.0\n",
      "tensorflow          584   121369.0\n",
      "classification      685   104457.0\n",
      "keras               935   268608.0\n",
      "neural-network     1055   185367.0\n",
      "deep-learning      1220   233628.0\n",
      "python             1814   537585.0\n",
      "machine-learning   2693   388499.0\n"
     ]
    }
   ],
   "source": [
    "in_used = pd.merge(most_used, most_viewed, how=\"left\", left_index=True, right_index=True)\n",
    "print(in_used)"
   ]
  },
  {
   "cell_type": "markdown",
   "metadata": {},
   "source": [
    "We can see two tags, `cnn` and `nlp` which do not occur in `most_viewed`. Now let's see what's true the other way around."
   ]
  },
  {
   "cell_type": "code",
   "execution_count": 19,
   "metadata": {
    "collapsed": false,
    "scrolled": true
   },
   "outputs": [
    {
     "name": "stdout",
     "output_type": "stream",
     "text": [
      "                   Count  ViewCount\n",
      "dataframe            NaN      89352\n",
      "classification     685.0     104457\n",
      "tensorflow         584.0     121369\n",
      "scikit-learn       540.0     128110\n",
      "neural-network    1055.0     185367\n",
      "pandas               NaN     201787\n",
      "deep-learning     1220.0     233628\n",
      "keras              935.0     268608\n",
      "machine-learning  2693.0     388499\n",
      "python            1814.0     537585\n"
     ]
    }
   ],
   "source": [
    "in_viewed = pd.merge(most_used, most_viewed, how=\"right\", left_index=True, right_index=True)\n",
    "print(in_viewed)"
   ]
  },
  {
   "cell_type": "markdown",
   "metadata": {},
   "source": [
    "Here we can see that again two tags, `dataframe` and `pandas`, exist in `most_viewed`, but not in `most_used`."
   ]
  },
  {
   "cell_type": "markdown",
   "metadata": {},
   "source": [
    "## Enter Domain Knowledge\n",
    "Below will be a brief explanation of the meanings of 8 of the top 10 popular tags, and whether they are related to other tags.\n",
    "1. `python` - Use for data science questions related to the programming language Python. Relations: 2, 3, 4, 5, 6, 7, 8\n",
    "2. `machine-learning` - Machine Learning is a subfield of computer science that draws on elements from algorithmic analysis, computational statistics, mathematics, optimization, etc. It is mainly concerned with the use of data to construct models that have high predictive/forecasting ability. Topics include modeling building, applications, theory, etc. Relations: 1, 3, 4, 5, 6, 7, 8\n",
    "3. `deep-learning` - a new area of Machine Learning research concerned with the technologies used for learning hierarchical representations of data, mainly done with deep neural networks (i.e. networks with two or more hidden layers), but also with some sort of Probabilistic Graphical Models. Relations: 1, 2, 4, 5\n",
    "4. `neural-network` - Artificial neural networks (ANN), are composed of 'neurons' - programming constructs that mimic the properties of biological neurons. A set of weighted connections between the neurons allows information to propagate through the network to solve artificial intelligence problems without the network designer having had a model of a real system. Relations: 1, 2\n",
    "5. `keras` - Keras is a popular, open-source deep learning API for Python built on top of TensorFlow and is useful for fast implementation. Topics include efficient low-level tensor operations, computation of arbitrary gradients, scalable computations, export of graphs, etc. Relations: 1, 2, 3, 6\n",
    "6. `tensorflow` - TensorFlow is an open source library for machine learning and machine intelligence. TensorFlow uses data flow graphs with tensors flowing along edges. For details, see https://www.tensorflow.org. TensorFlow is released under an Apache 2.0 License. Relations: 1, 2, 5\n",
    "7. `classification` - An instance of supervised learning that identifies the category or categories which a new instance of dataset belongs. Relations: 1, 2\n",
    "8. `scikit-learn` - scikit-learn is a popular machine learning package for Python that has simple and efficient tools for predictive data analysis. Topics include classification, regression, clustering, dimensionality reduction, model selection, and preprocessing. Relations: 1, 2, 7"
   ]
  },
  {
   "cell_type": "markdown",
   "metadata": {},
   "source": [
    "Python having the most relations makes sense, as being a programming language, will be useful in most machine learning scenarios, and the rest of the tags either have to do with types of machine learning, or tools which use machine learning, which would mean machine learning, specifically deep learning in this case, is the most popular topic at the moment."
   ]
  },
  {
   "cell_type": "markdown",
   "metadata": {},
   "source": [
    "## Just a Fad?\n",
    "Before solidifying our recommendation of deep learning, we will take a look at a dataframe containing all questions ever asked on DSSE."
   ]
  },
  {
   "cell_type": "code",
   "execution_count": 20,
   "metadata": {
    "collapsed": true
   },
   "outputs": [],
   "source": [
    "all_q = pd.read_csv(\"all_questions.csv\", parse_dates=[\"CreationDate\"])"
   ]
  },
  {
   "cell_type": "markdown",
   "metadata": {},
   "source": [
    "We will clean the tags the same way as before."
   ]
  },
  {
   "cell_type": "code",
   "execution_count": 23,
   "metadata": {
    "collapsed": false
   },
   "outputs": [],
   "source": [
    "all_q[\"Tags\"] = all_q[\"Tags\"].str.replace(\"^<|>$\", \"\").str.split(\"><\")"
   ]
  },
  {
   "cell_type": "markdown",
   "metadata": {},
   "source": [
    "To make sure we can figure out which questions pertain to deep learning, we will create a list of tags related to deep learning:\n",
    "`[\"lstm\", \"cnn\", \"scikit-learn\", \"tensorflow\", \"neural-network\", \"deep-learning\"]`\n",
    "We will create a function that labels deep learning questions as 1, and all others as 0."
   ]
  },
  {
   "cell_type": "code",
   "execution_count": 24,
   "metadata": {
    "collapsed": true
   },
   "outputs": [],
   "source": [
    "dl_tags = [\"lstm\", \"cnn\", \"scikit-learn\", \"tensorflow\", \"neural-network\", \"deep-learning\"]\n",
    "\n",
    "def is_deep_learning(tags):\n",
    "    for tag in tags:\n",
    "        if tag in dl_tags:\n",
    "            return 1\n",
    "        return 0"
   ]
  },
  {
   "cell_type": "code",
   "execution_count": 25,
   "metadata": {
    "collapsed": true
   },
   "outputs": [],
   "source": [
    "all_q[\"IsDL\"] = all_q[\"Tags\"].apply(is_deep_learning)"
   ]
  },
  {
   "cell_type": "code",
   "execution_count": 26,
   "metadata": {
    "collapsed": false
   },
   "outputs": [
    {
     "data": {
      "text/html": [
       "<div>\n",
       "<style scoped>\n",
       "    .dataframe tbody tr th:only-of-type {\n",
       "        vertical-align: middle;\n",
       "    }\n",
       "\n",
       "    .dataframe tbody tr th {\n",
       "        vertical-align: top;\n",
       "    }\n",
       "\n",
       "    .dataframe thead th {\n",
       "        text-align: right;\n",
       "    }\n",
       "</style>\n",
       "<table border=\"1\" class=\"dataframe\">\n",
       "  <thead>\n",
       "    <tr style=\"text-align: right;\">\n",
       "      <th></th>\n",
       "      <th>Id</th>\n",
       "      <th>CreationDate</th>\n",
       "      <th>Tags</th>\n",
       "      <th>IsDL</th>\n",
       "    </tr>\n",
       "  </thead>\n",
       "  <tbody>\n",
       "    <tr>\n",
       "      <th>10124</th>\n",
       "      <td>50931</td>\n",
       "      <td>2019-04-25 18:08:28</td>\n",
       "      <td>[kernel]</td>\n",
       "      <td>0</td>\n",
       "    </tr>\n",
       "    <tr>\n",
       "      <th>3132</th>\n",
       "      <td>16076</td>\n",
       "      <td>2017-01-04 20:31:22</td>\n",
       "      <td>[data-mining, dataset, scraping]</td>\n",
       "      <td>0</td>\n",
       "    </tr>\n",
       "    <tr>\n",
       "      <th>2906</th>\n",
       "      <td>56646</td>\n",
       "      <td>2019-07-30 21:43:42</td>\n",
       "      <td>[neural-network, lstm]</td>\n",
       "      <td>1</td>\n",
       "    </tr>\n",
       "    <tr>\n",
       "      <th>14781</th>\n",
       "      <td>31280</td>\n",
       "      <td>2018-05-06 11:20:57</td>\n",
       "      <td>[machine-learning, bayes-error]</td>\n",
       "      <td>0</td>\n",
       "    </tr>\n",
       "    <tr>\n",
       "      <th>5429</th>\n",
       "      <td>26877</td>\n",
       "      <td>2018-01-21 03:53:33</td>\n",
       "      <td>[python, keras, feature-engineering]</td>\n",
       "      <td>0</td>\n",
       "    </tr>\n",
       "    <tr>\n",
       "      <th>9553</th>\n",
       "      <td>41687</td>\n",
       "      <td>2018-11-25 20:31:08</td>\n",
       "      <td>[variance]</td>\n",
       "      <td>0</td>\n",
       "    </tr>\n",
       "    <tr>\n",
       "      <th>6801</th>\n",
       "      <td>48459</td>\n",
       "      <td>2019-04-02 16:32:16</td>\n",
       "      <td>[machine-learning, python]</td>\n",
       "      <td>0</td>\n",
       "    </tr>\n",
       "    <tr>\n",
       "      <th>20837</th>\n",
       "      <td>35748</td>\n",
       "      <td>2018-07-19 16:58:13</td>\n",
       "      <td>[graphs]</td>\n",
       "      <td>0</td>\n",
       "    </tr>\n",
       "    <tr>\n",
       "      <th>6374</th>\n",
       "      <td>39953</td>\n",
       "      <td>2018-10-20 06:35:30</td>\n",
       "      <td>[machine-learning, text-mining, k-means]</td>\n",
       "      <td>0</td>\n",
       "    </tr>\n",
       "    <tr>\n",
       "      <th>19627</th>\n",
       "      <td>65118</td>\n",
       "      <td>2019-12-19 10:39:12</td>\n",
       "      <td>[python, convolution, scipy]</td>\n",
       "      <td>0</td>\n",
       "    </tr>\n",
       "  </tbody>\n",
       "</table>\n",
       "</div>"
      ],
      "text/plain": [
       "          Id        CreationDate                                      Tags  \\\n",
       "10124  50931 2019-04-25 18:08:28                                  [kernel]   \n",
       "3132   16076 2017-01-04 20:31:22          [data-mining, dataset, scraping]   \n",
       "2906   56646 2019-07-30 21:43:42                    [neural-network, lstm]   \n",
       "14781  31280 2018-05-06 11:20:57           [machine-learning, bayes-error]   \n",
       "5429   26877 2018-01-21 03:53:33      [python, keras, feature-engineering]   \n",
       "9553   41687 2018-11-25 20:31:08                                [variance]   \n",
       "6801   48459 2019-04-02 16:32:16                [machine-learning, python]   \n",
       "20837  35748 2018-07-19 16:58:13                                  [graphs]   \n",
       "6374   39953 2018-10-20 06:35:30  [machine-learning, text-mining, k-means]   \n",
       "19627  65118 2019-12-19 10:39:12              [python, convolution, scipy]   \n",
       "\n",
       "       IsDL  \n",
       "10124     0  \n",
       "3132      0  \n",
       "2906      1  \n",
       "14781     0  \n",
       "5429      0  \n",
       "9553      0  \n",
       "6801      0  \n",
       "20837     0  \n",
       "6374      0  \n",
       "19627     0  "
      ]
     },
     "execution_count": 26,
     "metadata": {},
     "output_type": "execute_result"
    }
   ],
   "source": [
    "all_q.sample(10)"
   ]
  },
  {
   "cell_type": "markdown",
   "metadata": {},
   "source": [
    "It appears our function has worked. To establish a timeframe, we will remove dates from 2020, as we don't have data from the first quarter of 2020."
   ]
  },
  {
   "cell_type": "code",
   "execution_count": 28,
   "metadata": {
    "collapsed": false
   },
   "outputs": [],
   "source": [
    "all_q = all_q[all_q[\"CreationDate\"].dt.year < 2020]"
   ]
  },
  {
   "cell_type": "markdown",
   "metadata": {},
   "source": [
    "Now we will sort questions into quarters to create a manageable time period."
   ]
  },
  {
   "cell_type": "code",
   "execution_count": 30,
   "metadata": {
    "collapsed": false
   },
   "outputs": [],
   "source": [
    "def find_quarter(datetime):\n",
    "    year = str(datetime.year)[-2:]\n",
    "    quarter = str(((datetime.month-1) // 3) + 1)\n",
    "    return \"{y}Q{q}\".format(y=year, q=quarter)\n",
    "\n",
    "all_q[\"Quarter\"] = all_q[\"CreationDate\"].apply(find_quarter)"
   ]
  },
  {
   "cell_type": "code",
   "execution_count": 31,
   "metadata": {
    "collapsed": false
   },
   "outputs": [
    {
     "data": {
      "text/html": [
       "<div>\n",
       "<style scoped>\n",
       "    .dataframe tbody tr th:only-of-type {\n",
       "        vertical-align: middle;\n",
       "    }\n",
       "\n",
       "    .dataframe tbody tr th {\n",
       "        vertical-align: top;\n",
       "    }\n",
       "\n",
       "    .dataframe thead th {\n",
       "        text-align: right;\n",
       "    }\n",
       "</style>\n",
       "<table border=\"1\" class=\"dataframe\">\n",
       "  <thead>\n",
       "    <tr style=\"text-align: right;\">\n",
       "      <th></th>\n",
       "      <th>Id</th>\n",
       "      <th>CreationDate</th>\n",
       "      <th>Tags</th>\n",
       "      <th>IsDL</th>\n",
       "      <th>Quarter</th>\n",
       "    </tr>\n",
       "  </thead>\n",
       "  <tbody>\n",
       "    <tr>\n",
       "      <th>0</th>\n",
       "      <td>45416</td>\n",
       "      <td>2019-02-12 00:36:29</td>\n",
       "      <td>[python, keras, tensorflow, cnn, probability]</td>\n",
       "      <td>0</td>\n",
       "      <td>19Q1</td>\n",
       "    </tr>\n",
       "    <tr>\n",
       "      <th>1</th>\n",
       "      <td>45418</td>\n",
       "      <td>2019-02-12 00:50:39</td>\n",
       "      <td>[neural-network]</td>\n",
       "      <td>1</td>\n",
       "      <td>19Q1</td>\n",
       "    </tr>\n",
       "    <tr>\n",
       "      <th>2</th>\n",
       "      <td>45422</td>\n",
       "      <td>2019-02-12 04:40:51</td>\n",
       "      <td>[python, ibm-watson, chatbot]</td>\n",
       "      <td>0</td>\n",
       "      <td>19Q1</td>\n",
       "    </tr>\n",
       "    <tr>\n",
       "      <th>3</th>\n",
       "      <td>45426</td>\n",
       "      <td>2019-02-12 04:51:49</td>\n",
       "      <td>[keras]</td>\n",
       "      <td>0</td>\n",
       "      <td>19Q1</td>\n",
       "    </tr>\n",
       "    <tr>\n",
       "      <th>4</th>\n",
       "      <td>45427</td>\n",
       "      <td>2019-02-12 05:08:24</td>\n",
       "      <td>[r, predictive-modeling, machine-learning-mode...</td>\n",
       "      <td>0</td>\n",
       "      <td>19Q1</td>\n",
       "    </tr>\n",
       "  </tbody>\n",
       "</table>\n",
       "</div>"
      ],
      "text/plain": [
       "      Id        CreationDate  \\\n",
       "0  45416 2019-02-12 00:36:29   \n",
       "1  45418 2019-02-12 00:50:39   \n",
       "2  45422 2019-02-12 04:40:51   \n",
       "3  45426 2019-02-12 04:51:49   \n",
       "4  45427 2019-02-12 05:08:24   \n",
       "\n",
       "                                                Tags  IsDL Quarter  \n",
       "0      [python, keras, tensorflow, cnn, probability]     0    19Q1  \n",
       "1                                   [neural-network]     1    19Q1  \n",
       "2                      [python, ibm-watson, chatbot]     0    19Q1  \n",
       "3                                            [keras]     0    19Q1  \n",
       "4  [r, predictive-modeling, machine-learning-mode...     0    19Q1  "
      ]
     },
     "execution_count": 31,
     "metadata": {},
     "output_type": "execute_result"
    }
   ],
   "source": [
    "all_q.head()"
   ]
  },
  {
   "cell_type": "markdown",
   "metadata": {},
   "source": [
    "Next we will determine what ratio of questions asked in a quarter pertain to deep learning."
   ]
  },
  {
   "cell_type": "code",
   "execution_count": 32,
   "metadata": {
    "collapsed": false
   },
   "outputs": [
    {
     "data": {
      "text/html": [
       "<div>\n",
       "<style scoped>\n",
       "    .dataframe tbody tr th:only-of-type {\n",
       "        vertical-align: middle;\n",
       "    }\n",
       "\n",
       "    .dataframe tbody tr th {\n",
       "        vertical-align: top;\n",
       "    }\n",
       "\n",
       "    .dataframe thead th {\n",
       "        text-align: right;\n",
       "    }\n",
       "</style>\n",
       "<table border=\"1\" class=\"dataframe\">\n",
       "  <thead>\n",
       "    <tr style=\"text-align: right;\">\n",
       "      <th></th>\n",
       "      <th>Quarter</th>\n",
       "      <th>DeepLearningQuestions</th>\n",
       "      <th>TotalQuestions</th>\n",
       "      <th>DeepLearningRate</th>\n",
       "    </tr>\n",
       "  </thead>\n",
       "  <tbody>\n",
       "    <tr>\n",
       "      <th>13</th>\n",
       "      <td>17Q3</td>\n",
       "      <td>109</td>\n",
       "      <td>714</td>\n",
       "      <td>0.152661</td>\n",
       "    </tr>\n",
       "    <tr>\n",
       "      <th>22</th>\n",
       "      <td>19Q4</td>\n",
       "      <td>338</td>\n",
       "      <td>2036</td>\n",
       "      <td>0.166012</td>\n",
       "    </tr>\n",
       "    <tr>\n",
       "      <th>15</th>\n",
       "      <td>18Q1</td>\n",
       "      <td>186</td>\n",
       "      <td>1221</td>\n",
       "      <td>0.152334</td>\n",
       "    </tr>\n",
       "    <tr>\n",
       "      <th>0</th>\n",
       "      <td>14Q2</td>\n",
       "      <td>3</td>\n",
       "      <td>157</td>\n",
       "      <td>0.019108</td>\n",
       "    </tr>\n",
       "    <tr>\n",
       "      <th>12</th>\n",
       "      <td>17Q2</td>\n",
       "      <td>102</td>\n",
       "      <td>647</td>\n",
       "      <td>0.157651</td>\n",
       "    </tr>\n",
       "  </tbody>\n",
       "</table>\n",
       "</div>"
      ],
      "text/plain": [
       "   Quarter  DeepLearningQuestions  TotalQuestions  DeepLearningRate\n",
       "13    17Q3                    109             714          0.152661\n",
       "22    19Q4                    338            2036          0.166012\n",
       "15    18Q1                    186            1221          0.152334\n",
       "0     14Q2                      3             157          0.019108\n",
       "12    17Q2                    102             647          0.157651"
      ]
     },
     "execution_count": 32,
     "metadata": {},
     "output_type": "execute_result"
    }
   ],
   "source": [
    "quarterly = all_q.groupby(\"Quarter\").agg({\"IsDL\": [\"sum\", \"size\"]})\n",
    "quarterly.columns = [\"DeepLearningQuestions\", \"TotalQuestions\"]\n",
    "quarterly[\"DeepLearningRate\"] = quarterly[\"DeepLearningQuestions\"] / quarterly[\"TotalQuestions\"]\n",
    "\n",
    "quarterly.reset_index(inplace=True)\n",
    "quarterly.sample(5)"
   ]
  },
  {
   "cell_type": "code",
   "execution_count": 33,
   "metadata": {
    "collapsed": false
   },
   "outputs": [
    {
     "data": {
      "image/png": "[encoded data removed]",
      "text/plain": [
       "<matplotlib.figure.Figure at 0x7fd23ae95a58>"
      ]
     },
     "metadata": {},
     "output_type": "display_data"
    }
   ],
   "source": [
    "ax1 = quarterly.plot(x=\"Quarter\", y=\"DeepLearningRate\",\n",
    "                    kind=\"line\", linestyle=\"-\", marker=\"o\", color=\"orange\",\n",
    "                    figsize=(24,12)\n",
    "                    )\n",
    "ax2 = quarterly.plot(x=\"Quarter\", y=\"TotalQuestions\",\n",
    "                    kind=\"bar\", ax=ax1, secondary_y=True, alpha=0.7, rot=45)\n",
    "for idx, t in quarterly[\"TotalQuestions\"].iteritems():\n",
    "    ax2.text(idx, t, str(t), ha=\"center\", va=\"bottom\")\n",
    "xlims = ax1.get_xlim()\n",
    "\n",
    "ax1.get_legend().remove()\n",
    "\n",
    "handles1, labels1 = ax1.get_legend_handles_labels()\n",
    "handles2, labels2 = ax2.get_legend_handles_labels()\n",
    "ax1.legend(handles=handles1+handles2,\n",
    "          labels=labels1+labels2,\n",
    "          loc=\"upper left\", prop={\"size\":12})\n",
    "for ax in (ax1, ax2):\n",
    "    for where in (\"top\", \"right\"):\n",
    "        ax.spines[where].set_visible(False)\n",
    "        ax.tick_params(right=False, labelright=False)"
   ]
  },
  {
   "cell_type": "markdown",
   "metadata": {},
   "source": [
    "While the rate of deep learning questions has seemingly plateaued, it has not begun to decline, as the last quarter's decline in deep learning questions corresponds to an overall reduction in questiones asked"
   ]
  }
 ],
 "metadata": {
  "kernelspec": {
   "display_name": "Python 3",
   "language": "python",
   "name": "python3"
  },
  "language_info": {
   "codemirror_mode": {
    "name": "ipython",
    "version": 3
   },
   "file_extension": ".py",
   "mimetype": "text/x-python",
   "name": "python",
   "nbconvert_exporter": "python",
   "pygments_lexer": "ipython3",
   "version": "3.4.3"
  }
 },
 "nbformat": 4,
 "nbformat_minor": 2
}
